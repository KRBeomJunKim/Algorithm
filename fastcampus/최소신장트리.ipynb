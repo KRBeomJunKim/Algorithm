{
 "cells": [
  {
   "cell_type": "markdown",
   "metadata": {},
   "source": [
    "# 크루스칼 알고리즘"
   ]
  },
  {
   "cell_type": "code",
   "execution_count": 4,
   "metadata": {},
   "outputs": [],
   "source": [
    "graph = {\n",
    "    'vertices': ['A', 'B', 'C', 'D', 'E', 'F', 'G'],\n",
    "    'edges': [\n",
    "        (7, 'A', 'B'),\n",
    "        (5, 'A', 'D'),\n",
    "        (7, 'B', 'A'),\n",
    "        (8, 'B', 'C'),\n",
    "        (9, 'B', 'D'),\n",
    "        (7, 'B', 'E'),\n",
    "        (8, 'C', 'B'),\n",
    "        (5, 'C', 'E'),\n",
    "        (5, 'D', 'A'),\n",
    "        (9, 'D', 'B'),\n",
    "        (7, 'D', 'E'),\n",
    "        (6, 'D', 'F'),\n",
    "        (7, 'E', 'B'),\n",
    "        (5, 'E', 'C'),\n",
    "        (7, 'E', 'D'),\n",
    "        (8, 'E', 'F'),\n",
    "        (9, 'E', 'G'),\n",
    "        (6, 'F', 'D'),\n",
    "        (8, 'F', 'E'),\n",
    "        (11, 'F', 'G'),\n",
    "        (9, 'G', 'E'),\n",
    "        (11, 'G', 'F')\n",
    "    ]\n",
    "}"
   ]
  },
  {
   "cell_type": "code",
   "execution_count": 5,
   "metadata": {},
   "outputs": [],
   "source": [
    "parent = dict()\n",
    "rank = dict()\n",
    "\n",
    "def find(node):\n",
    "    # path compression\n",
    "    if parent[node] != node:\n",
    "        parent[node] = find(parent[node])\n",
    "    return parent[node]\n",
    "    \n",
    "def union(node_v, node_u):\n",
    "    root1 = find(node_v)\n",
    "    root2 = find(node_u)\n",
    "    \n",
    "    #union-by-rank 기법\n",
    "    if rank[root1] > rank[root2]:\n",
    "        parent[root2] = root1\n",
    "    else:\n",
    "        parent[root1] = root2\n",
    "        \n",
    "        if rank[root1] == rank[root2]:\n",
    "            rank[root2] += 1\n",
    "    \n",
    "def make_set(node):\n",
    "    parent[node] = node\n",
    "    rank[node] = 0\n",
    "\n",
    "def kruskal(graph):\n",
    "    mst=list()\n",
    "    \n",
    "    # 1.초기화\n",
    "    for node in graph['vertices']:\n",
    "        make_set(node)\n",
    "    \n",
    "    # 2.간선 weight 기반 sorting\n",
    "    edges = graph['edges']\n",
    "    edges.sort()\n",
    "    \n",
    "    # 3.간선연결 (사이클 없는)\n",
    "    for edge in edges:\n",
    "        weight, node_v, node_u = edge\n",
    "        if find(node_v) != find(node_u):\n",
    "            union(node_v, node_u)\n",
    "            mst.append(edge)\n",
    "    \n",
    "    return mst"
   ]
  },
  {
   "cell_type": "code",
   "execution_count": 6,
   "metadata": {},
   "outputs": [
    {
     "data": {
      "text/plain": [
       "[(5, 'A', 'D'),\n",
       " (5, 'C', 'E'),\n",
       " (6, 'D', 'F'),\n",
       " (7, 'A', 'B'),\n",
       " (7, 'B', 'E'),\n",
       " (9, 'E', 'G')]"
      ]
     },
     "execution_count": 6,
     "metadata": {},
     "output_type": "execute_result"
    }
   ],
   "source": [
    "kruskal(mygraph)"
   ]
  },
  {
   "cell_type": "markdown",
   "metadata": {},
   "source": [
    "# 프림 알고리즘"
   ]
  },
  {
   "cell_type": "code",
   "execution_count": 8,
   "metadata": {},
   "outputs": [
    {
     "name": "stdout",
     "output_type": "stream",
     "text": [
      "[2, 'A']\n",
      "[3, 'C']\n",
      "[5, 'B']\n",
      "[]\n"
     ]
    }
   ],
   "source": [
    "import heapq\n",
    "\n",
    "queue = []\n",
    "graph_data = [[2, 'A'], [5, 'B'], [3, 'C']]\n",
    "\n",
    "for edge in graph_data:\n",
    "    heapq.heappush(queue, edge)\n",
    "    \n",
    "for index in range(len(queue)):\n",
    "    print(heapq.heappop(queue))\n",
    "    \n",
    "print(queue)"
   ]
  },
  {
   "cell_type": "code",
   "execution_count": 10,
   "metadata": {},
   "outputs": [
    {
     "name": "stdout",
     "output_type": "stream",
     "text": [
      "[2, 'A']\n",
      "[3, 'C']\n",
      "[5, 'B']\n",
      "[]\n"
     ]
    }
   ],
   "source": [
    "import heapq\n",
    "\n",
    "queue = []\n",
    "graph_data = [[2, 'A'], [5, 'B'], [3, 'C']]\n",
    "\n",
    "heapq.heapify(graph_data)\n",
    "\n",
    "for index in range(len(graph_data)):\n",
    "    print(heapq.heappop(graph_data))\n",
    "    \n",
    "print(graph_data)"
   ]
  },
  {
   "cell_type": "code",
   "execution_count": 17,
   "metadata": {},
   "outputs": [
    {
     "name": "stdout",
     "output_type": "stream",
     "text": [
      "[]\n"
     ]
    },
    {
     "ename": "KeyError",
     "evalue": "'key1'",
     "output_type": "error",
     "traceback": [
      "\u001b[1;31m---------------------------------------------------------------------------\u001b[0m",
      "\u001b[1;31mKeyError\u001b[0m                                  Traceback (most recent call last)",
      "\u001b[1;32m<ipython-input-17-e03bfe85bbf3>\u001b[0m in \u001b[0;36m<module>\u001b[1;34m\u001b[0m\n\u001b[0;32m      5\u001b[0m \u001b[1;33m\u001b[0m\u001b[0m\n\u001b[0;32m      6\u001b[0m \u001b[0mlist_dict2\u001b[0m \u001b[1;33m=\u001b[0m \u001b[0mdict\u001b[0m\u001b[1;33m(\u001b[0m\u001b[1;33m)\u001b[0m\u001b[1;33m\u001b[0m\u001b[1;33m\u001b[0m\u001b[0m\n\u001b[1;32m----> 7\u001b[1;33m \u001b[0mprint\u001b[0m\u001b[1;33m(\u001b[0m\u001b[0mlist_dict2\u001b[0m\u001b[1;33m[\u001b[0m\u001b[1;34m'key1'\u001b[0m\u001b[1;33m]\u001b[0m\u001b[1;33m)\u001b[0m\u001b[1;33m\u001b[0m\u001b[1;33m\u001b[0m\u001b[0m\n\u001b[0m",
      "\u001b[1;31mKeyError\u001b[0m: 'key1'"
     ]
    }
   ],
   "source": [
    "from collections import defaultdict\n",
    "\n",
    "list_dict = defaultdict(list)\n",
    "print(list_dict['key1'])\n",
    "\n",
    "list_dict2 = dict()\n",
    "print(list_dict2['key1'])"
   ]
  },
  {
   "cell_type": "code",
   "execution_count": 30,
   "metadata": {},
   "outputs": [],
   "source": [
    "myedges = [\n",
    "    (7, 'A', 'B'),\n",
    "    (5, 'A', 'D'),\n",
    "    (8, 'B', 'C'),\n",
    "    (9, 'B', 'D'),\n",
    "    (7, 'B', 'E'),\n",
    "    (5, 'C', 'E'),\n",
    "    (7, 'D', 'E'),\n",
    "    (6, 'D', 'F'),\n",
    "    (8, 'E', 'F'),\n",
    "    (9, 'E', 'G'),\n",
    "    (11, 'F', 'G'),\n",
    "]"
   ]
  },
  {
   "cell_type": "code",
   "execution_count": 31,
   "metadata": {},
   "outputs": [],
   "source": [
    "from collections import defaultdict\n",
    "from heapq import *\n",
    "\n",
    "def prim(start_node, myedges):\n",
    "    mst = list()\n",
    "    \n",
    "    adjacent_edges = defaultdict(list)\n",
    "    for weight, n1, n2 in edges:\n",
    "        adjacent_edges[n1].append((weight, n1, n2))\n",
    "        adjacent_edges[n2].append((weight, n2, n1))\n",
    "    \n",
    "    connected_nodes = set(start_node)\n",
    "    candidate_edge_list = adjacent_edges[start_node]\n",
    "    heapify(candidate_edge_list)\n",
    "    \n",
    "    while candidate_edge_list:\n",
    "        weight, n1, n2 = heappop(candidate_edge_list)\n",
    "        if n2 not in connected_nodes:\n",
    "            connected_nodes.add(n2)\n",
    "            mst.append((weight, n1, n2))\n",
    "            \n",
    "            for edge in adjacent_edges[n2]:\n",
    "                if edge[2] not in connected_nodes:\n",
    "                    heappush(candidate_edge_list, edge)\n",
    "    return mst"
   ]
  },
  {
   "cell_type": "code",
   "execution_count": 32,
   "metadata": {},
   "outputs": [
    {
     "data": {
      "text/plain": [
       "[(5, 'A', 'D'),\n",
       " (6, 'D', 'F'),\n",
       " (7, 'A', 'B'),\n",
       " (7, 'B', 'E'),\n",
       " (5, 'E', 'C'),\n",
       " (9, 'E', 'G')]"
      ]
     },
     "execution_count": 32,
     "metadata": {},
     "output_type": "execute_result"
    }
   ],
   "source": [
    "prim('A', myedges)"
   ]
  },
  {
   "cell_type": "markdown",
   "metadata": {},
   "source": [
    "# 개선된 프림 알고리즘"
   ]
  },
  {
   "cell_type": "code",
   "execution_count": 33,
   "metadata": {},
   "outputs": [
    {
     "ename": "SyntaxError",
     "evalue": "invalid syntax (<ipython-input-33-0448fbb5c184>, line 3)",
     "output_type": "error",
     "traceback": [
      "\u001b[1;36m  File \u001b[1;32m\"<ipython-input-33-0448fbb5c184>\"\u001b[1;36m, line \u001b[1;32m3\u001b[0m\n\u001b[1;33m    def prim(graph, )\u001b[0m\n\u001b[1;37m                     ^\u001b[0m\n\u001b[1;31mSyntaxError\u001b[0m\u001b[1;31m:\u001b[0m invalid syntax\n"
     ]
    }
   ],
   "source": [
    "from heapdict import heapdict\n",
    "\n",
    "def prim(graph, )"
   ]
  },
  {
   "cell_type": "code",
   "execution_count": 34,
   "metadata": {},
   "outputs": [],
   "source": [
    "myedges = [\n",
    "    (7, 'A', 'B'), (5, 'A', 'D'),\n",
    "    (8, 'B', 'C'), (9, 'B', 'D'), (7, 'B', 'E'),\n",
    "    (5, 'C', 'E'),\n",
    "    (7, 'D', 'E'), (6, 'D', 'F'),\n",
    "    (8, 'E', 'F'), (9, 'E', 'G'),\n",
    "    (11, 'F', 'G')\n",
    "]"
   ]
  },
  {
   "cell_type": "code",
   "execution_count": null,
   "metadata": {},
   "outputs": [],
   "source": []
  }
 ],
 "metadata": {
  "kernelspec": {
   "display_name": "Python 3",
   "language": "python",
   "name": "python3"
  },
  "language_info": {
   "codemirror_mode": {
    "name": "ipython",
    "version": 3
   },
   "file_extension": ".py",
   "mimetype": "text/x-python",
   "name": "python",
   "nbconvert_exporter": "python",
   "pygments_lexer": "ipython3",
   "version": "3.7.4"
  }
 },
 "nbformat": 4,
 "nbformat_minor": 4
}
