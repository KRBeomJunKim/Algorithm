{
 "cells": [
  {
   "cell_type": "code",
   "execution_count": 1,
   "metadata": {},
   "outputs": [],
   "source": [
    "def split(data):\n",
    "    medium = int(len(data)/2)\n",
    "    left = data[:medium]\n",
    "    right = data[medium:]\n",
    "    print(left, right)"
   ]
  },
  {
   "cell_type": "code",
   "execution_count": 2,
   "metadata": {},
   "outputs": [
    {
     "name": "stdout",
     "output_type": "stream",
     "text": [
      "[3, 4] [1, 3, 2]\n"
     ]
    }
   ],
   "source": [
    "data_list = [3, 4, 1, 3, 2]\n",
    "split(data_list)"
   ]
  },
  {
   "cell_type": "code",
   "execution_count": 3,
   "metadata": {},
   "outputs": [],
   "source": [
    "def mergesplit(data):\n",
    "    if len(data)<=1:\n",
    "        return data\n",
    "    medium = int(len(data)/2)\n",
    "    left = mergesplit(data[:medium])\n",
    "    right = mergesplit(data[medium:])\n",
    "    return merge(left, right)"
   ]
  },
  {
   "cell_type": "code",
   "execution_count": null,
   "metadata": {},
   "outputs": [],
   "source": [
    "def merge(left, right):\n",
    "    meged = list()\n",
    "    left_point, right_point = 0, 0\n",
    "    \n",
    "    # case1: left/right 아직 남아있을 때\n",
    "    while len(left) > left_point and len(right) > right_point:\n",
    "    \n",
    "    # case2: Left만 남아있을 때\n",
    "    while len(left) > left_point:\n",
    "        \n",
    "    # case3: Right만 남아있을 때\n",
    "    while len(right) > right_point:"
   ]
  }
 ],
 "metadata": {
  "kernelspec": {
   "display_name": "Python 3",
   "language": "python",
   "name": "python3"
  },
  "language_info": {
   "codemirror_mode": {
    "name": "ipython",
    "version": 3
   },
   "file_extension": ".py",
   "mimetype": "text/x-python",
   "name": "python",
   "nbconvert_exporter": "python",
   "pygments_lexer": "ipython3",
   "version": "3.7.4"
  }
 },
 "nbformat": 4,
 "nbformat_minor": 4
}
