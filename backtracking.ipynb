{
 "cells": [
  {
   "cell_type": "markdown",
   "metadata": {},
   "source": [
    "# N Queen 문제"
   ]
  },
  {
   "cell_type": "code",
   "execution_count": 5,
   "metadata": {},
   "outputs": [
    {
     "ename": "SyntaxError",
     "evalue": "invalid syntax (<ipython-input-5-fda820207f21>, line 4)",
     "output_type": "error",
     "traceback": [
      "\u001b[1;36m  File \u001b[1;32m\"<ipython-input-5-fda820207f21>\"\u001b[1;36m, line \u001b[1;32m4\u001b[0m\n\u001b[1;33m    if candidate[queen_row] == current_col or abs(candidate[queen_row] - current_col) == abs(current_row - queen_row)\u001b[0m\n\u001b[1;37m                                                                                                                     ^\u001b[0m\n\u001b[1;31mSyntaxError\u001b[0m\u001b[1;31m:\u001b[0m invalid syntax\n"
     ]
    }
   ],
   "source": [
    "def is_available(candidate, current_col):\n",
    "    current_row = len(candidate)\n",
    "    for queen_row in range(current_row):\n",
    "        if candidate[queen_row] == current_col or abs(candidate[queen_row] - current_col) == abs(current_row - queen_row)\n",
    "            return False\n",
    "    return True\n",
    "\n",
    "def DFS(N, current_row, current_candidate, final_result):\n",
    "    if current_row == N:\n",
    "        final_result.append(current_candidate[:])\n",
    "        return\n",
    "    \n",
    "    for candidate_col in range(N):\n",
    "        if is_available(current_candidate, candidate_col):\n",
    "            current_candidate.append(candidate_col)\n",
    "            DFS(N, current_row+1, current_candidate, final_result)\n",
    "            current_candidate.pop()\n",
    "            \n",
    "def solve_n_queens(N):\n",
    "    final_result = []\n",
    "    DFS(N, 0, [], final_result)\n",
    "    return final_result"
   ]
  },
  {
   "cell_type": "code",
   "execution_count": null,
   "metadata": {},
   "outputs": [],
   "source": []
  }
 ],
 "metadata": {
  "kernelspec": {
   "display_name": "Python 3",
   "language": "python",
   "name": "python3"
  },
  "language_info": {
   "codemirror_mode": {
    "name": "ipython",
    "version": 3
   },
   "file_extension": ".py",
   "mimetype": "text/x-python",
   "name": "python",
   "nbconvert_exporter": "python",
   "pygments_lexer": "ipython3",
   "version": "3.7.4"
  }
 },
 "nbformat": 4,
 "nbformat_minor": 4
}
